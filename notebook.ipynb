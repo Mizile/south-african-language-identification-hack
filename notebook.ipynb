{
 "cells": [
  {
   "cell_type": "code",
   "execution_count": 2,
   "id": "fda415f1",
   "metadata": {},
   "outputs": [],
   "source": [
    "import pandas as pd\n",
    "from sklearn.svm import SVC\n",
    "from sklearn.feature_extraction.text import TfidfVectorizer\n",
    "from sklearn.pipeline import Pipeline\n",
    "\n",
    "# Function to preprocess text\n",
    "def preprocess_text(text):\n",
    "    # Convert text to lowercase\n",
    "    text = text.lower()\n",
    "    # Remove punctuation (substituting with a space so words don't concatenate together)\n",
    "    text = text.translate(str.maketrans('', '', '!\"#$%&\\'()*+,-./:;<=>?@[\\\\]^_`{|}~'))\n",
    "    # Remove digits (substituting with a space so words don't concatenate together)\n",
    "    text = text.translate(str.maketrans('', '', '0123456789'))\n",
    "    return text\n",
    "\n",
    "# Load the datasets\n",
    "train_set = pd.read_csv('train_set.csv')\n",
    "test_set = pd.read_csv('test_set.csv')\n",
    "\n",
    "# Preprocess the text\n",
    "train_set['text'] = train_set['text'].apply(preprocess_text)\n",
    "test_set['text'] = test_set['text'].apply(preprocess_text)\n",
    "\n",
    "# Split the training data into features and labels\n",
    "X_train = train_set['text']\n",
    "y_train = train_set['lang_id']\n",
    "\n",
    "# Define a Pipeline with TF-IDF Vectorizer and SVM Classifier\n",
    "pipeline_svm = Pipeline([\n",
    "    ('tfidf', TfidfVectorizer(sublinear_tf=True, min_df=5, norm='l2', encoding='latin-1', ngram_range=(1, 3))),\n",
    "    ('clf', SVC(kernel='linear', probability=True))\n",
    "])\n",
    "\n",
    "# Train the SVM model on the full training data\n",
    "pipeline_svm.fit(X_train, y_train)\n",
    "\n",
    "# Predict on the test set\n",
    "test_predictions_svm = pipeline_svm.predict(test_set['text'])\n",
    "\n",
    "# Prepare the submission dataframe\n",
    "submission_svm = pd.DataFrame({'index': test_set['index'], 'lang_id': test_predictions_svm})\n",
    "\n",
    "# Save the submission file\n",
    "submission_file_path_svm = 'submission_svm.csv'\n",
    "submission_svm.to_csv(submission_file_path_svm, index=False)\n"
   ]
  },
  {
   "cell_type": "code",
   "execution_count": null,
   "id": "804d73c6",
   "metadata": {},
   "outputs": [],
   "source": []
  }
 ],
 "metadata": {
  "kernelspec": {
   "display_name": "Python 3 (ipykernel)",
   "language": "python",
   "name": "python3"
  },
  "language_info": {
   "codemirror_mode": {
    "name": "ipython",
    "version": 3
   },
   "file_extension": ".py",
   "mimetype": "text/x-python",
   "name": "python",
   "nbconvert_exporter": "python",
   "pygments_lexer": "ipython3",
   "version": "3.11.5"
  }
 },
 "nbformat": 4,
 "nbformat_minor": 5
}
